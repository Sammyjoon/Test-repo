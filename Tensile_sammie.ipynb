{
  "nbformat": 4,
  "nbformat_minor": 0,
  "metadata": {
    "colab": {
      "provenance": [],
      "mount_file_id": "18bel67_Gmc9hVfxLKspqzRGiOdkgtuir",
      "authorship_tag": "ABX9TyNw9+io0RXPyo1VI9g2Cbn7",
      "include_colab_link": true
    },
    "kernelspec": {
      "name": "python3",
      "display_name": "Python 3"
    },
    "language_info": {
      "name": "python"
    }
  },
  "cells": [
    {
      "cell_type": "markdown",
      "metadata": {
        "id": "view-in-github",
        "colab_type": "text"
      },
      "source": [
        "<a href=\"https://colab.research.google.com/github/Sammyjoon/Test-repo/blob/master/Tensile_sammie.ipynb\" target=\"_parent\"><img src=\"https://colab.research.google.com/assets/colab-badge.svg\" alt=\"Open In Colab\"/></a>"
      ]
    },
    {
      "cell_type": "code",
      "execution_count": null,
      "metadata": {
        "colab": {
          "base_uri": "https://localhost:8080/"
        },
        "id": "j0WG96XDJefD",
        "outputId": "f1a2507a-9bee-487e-f739-931fc18f71e6"
      },
      "outputs": [
        {
          "output_type": "stream",
          "name": "stdout",
          "text": [
            "Drive already mounted at /content/drive; to attempt to forcibly remount, call drive.mount(\"/content/drive\", force_remount=True).\n"
          ]
        }
      ],
      "source": [
        "from google.colab import drive\n",
        "drive.mount('/content/drive')"
      ]
    },
    {
      "cell_type": "code",
      "source": [
        "import pandas as pd\n",
        "import numpy as np\n",
        "\n",
        "import math\n",
        "import random\n",
        "from sklearn import metrics\n",
        "from sklearn.metrics import r2_score\n",
        "from sklearn.metrics import mean_squared_error\n",
        "from sklearn.metrics import mean_absolute_error"
      ],
      "metadata": {
        "id": "b-rnvdcVMlNb"
      },
      "execution_count": null,
      "outputs": []
    },
    {
      "cell_type": "code",
      "source": [
        "df = pd.read_excel('/content/drive/MyDrive/Rohatgi/Datasets/Original Dataset AI-Gr Mechanical Properties without Average_Sammie.xlsx')"
      ],
      "metadata": {
        "id": "NmvF2tvxMd_p"
      },
      "execution_count": null,
      "outputs": []
    },
    {
      "cell_type": "code",
      "source": [
        "df.head(3)\n",
        "df.info()"
      ],
      "metadata": {
        "id": "dPkNmxDiM1Gi",
        "colab": {
          "base_uri": "https://localhost:8080/"
        },
        "outputId": "f060255f-fc84-4669-ab7b-5b521992bddc"
      },
      "execution_count": null,
      "outputs": [
        {
          "output_type": "stream",
          "name": "stdout",
          "text": [
            "<class 'pandas.core.frame.DataFrame'>\n",
            "RangeIndex: 291 entries, 0 to 290\n",
            "Data columns (total 39 columns):\n",
            " #   Column                             Non-Null Count  Dtype  \n",
            "---  ------                             --------------  -----  \n",
            " 0   Material                           291 non-null    object \n",
            " 1   Density (g/cm^3)                   97 non-null     float64\n",
            " 2   Aluminum content (wt%)             291 non-null    float64\n",
            " 3   Graphene content (wt%)             291 non-null    float64\n",
            " 4   Aluminum Vol                       291 non-null    float64\n",
            " 5   Graphene Vol                       291 non-null    float64\n",
            " 6   Graphene (Vol%)                    291 non-null    float64\n",
            " 7   Aluminum (Vol%)                    291 non-null    float64\n",
            " 8   Impurities (%)                     166 non-null    float64\n",
            " 9   Theoretical UTS of AI (MPa)        291 non-null    float64\n",
            " 10  Theortetical UTS Gr (MPa)          291 non-null    float64\n",
            " 11  Theoretical UTS Composite (MPa)    291 non-null    float64\n",
            " 12  Averaged UTS Composite (MPa)       14 non-null     float64\n",
            " 13  Type of Graphene                   291 non-null    object \n",
            " 14  Manufacturing Process              288 non-null    object \n",
            " 15  Heat treatment                     288 non-null    object \n",
            " 16  Corrosion Potential (Ecorr)        2 non-null      float64\n",
            " 17  Corrosion current density (jcorr)  13 non-null     float64\n",
            " 18  Hardness (VHN)                     126 non-null    float64\n",
            " 19  Fracture Toughness (KQ) (MPa/m)    4 non-null      float64\n",
            " 20  Hardness (GPa)                     7 non-null      float64\n",
            " 21  Brinell Hardness (BHN)             25 non-null     float64\n",
            " 22  Rockwell Hardness (RHN)            5 non-null      float64\n",
            " 23  Tensile Strength (N/mm^2)          2 non-null      float64\n",
            " 24  Tensile strength (MPa)             160 non-null    float64\n",
            " 25  Ultimate strain                    0 non-null      float64\n",
            " 26  Flexural Strength (MPa)            13 non-null     float64\n",
            " 27  Flexural Modulus 'E' (GP)          28 non-null     float64\n",
            " 28  Yield Strength (MPa)               72 non-null     float64\n",
            " 29  Compressive Stength (N/mm^2)       8 non-null      float64\n",
            " 30  Compressive Strength (MPa)         13 non-null     float64\n",
            " 31  Thermal Conductivity (W/mK)        11 non-null     float64\n",
            " 32  CTE (10^-6/ Degree Celsius)        5 non-null      float64\n",
            " 33  Damping (%)                        0 non-null      float64\n",
            " 34  Ductility (%)                      74 non-null     float64\n",
            " 35  Relative Expansion (%)             13 non-null     float64\n",
            " 36  Aluminum content (%)               278 non-null    float64\n",
            " 37  Reference                          291 non-null    object \n",
            " 38  Link                               207 non-null    object \n",
            "dtypes: float64(33), object(6)\n",
            "memory usage: 88.8+ KB\n"
          ]
        }
      ]
    },
    {
      "cell_type": "code",
      "source": [
        "df.dropna(subset=['Tensile strength (MPa)'], inplace=True)\n",
        "print(df['Tensile strength (MPa)'].isna().sum().sum())"
      ],
      "metadata": {
        "colab": {
          "base_uri": "https://localhost:8080/"
        },
        "id": "qMhoUYcBylOL",
        "outputId": "48acd306-38fa-40a5-dc71-0d581c8f2961"
      },
      "execution_count": null,
      "outputs": [
        {
          "output_type": "stream",
          "name": "stdout",
          "text": [
            "0\n"
          ]
        }
      ]
    },
    {
      "cell_type": "code",
      "source": [
        "df2 = df[['Density (g/cm^3)', 'Aluminum content (wt%)', 'Graphene content (wt%)', 'Graphene (Vol%)',\n",
        "              'Aluminum (Vol%)', 'Impurities (%)', 'Theoretical UTS of AI (MPa)', 'Theortetical UTS Gr (MPa)',\n",
        "             'Type of Graphene', 'Manufacturing Process', 'Heat treatment', 'Aluminum content (%)']]\n",
        "\n",
        "# new_df.head(10)"
      ],
      "metadata": {
        "id": "zX8pvexaNodU"
      },
      "execution_count": null,
      "outputs": []
    },
    {
      "cell_type": "markdown",
      "source": [
        "## Data Preprocessing"
      ],
      "metadata": {
        "id": "MFNjauwEXNWO"
      }
    },
    {
      "cell_type": "code",
      "source": [
        "# Count NaN values in multiple columns of DataFrame\n",
        "print(df2.isna().sum())"
      ],
      "metadata": {
        "colab": {
          "base_uri": "https://localhost:8080/"
        },
        "id": "BihQz1z6UPe3",
        "outputId": "299a9fbc-5248-4dec-e641-9dc336b93333"
      },
      "execution_count": null,
      "outputs": [
        {
          "output_type": "stream",
          "name": "stdout",
          "text": [
            "Density (g/cm^3)               101\n",
            "Aluminum content (wt%)           0\n",
            "Graphene content (wt%)           0\n",
            "Graphene (Vol%)                  0\n",
            "Aluminum (Vol%)                  0\n",
            "Impurities (%)                  80\n",
            "Theoretical UTS of AI (MPa)      0\n",
            "Theortetical UTS Gr (MPa)        0\n",
            "Type of Graphene                 0\n",
            "Manufacturing Process            3\n",
            "Heat treatment                   3\n",
            "Aluminum content (%)             7\n",
            "dtype: int64\n"
          ]
        }
      ]
    },
    {
      "cell_type": "code",
      "source": [
        "# Count NaN values of whole DataFrame\n",
        "print(df2.isna().sum().sum())"
      ],
      "metadata": {
        "colab": {
          "base_uri": "https://localhost:8080/"
        },
        "id": "SyBWtBpYUdU_",
        "outputId": "5b64f10f-298b-4c81-96a1-4bde89f5cfae"
      },
      "execution_count": null,
      "outputs": [
        {
          "output_type": "stream",
          "name": "stdout",
          "text": [
            "194\n"
          ]
        }
      ]
    },
    {
      "cell_type": "code",
      "source": [
        "# Handeling missing values of x with replacing mean\n",
        "\n",
        "mean_value = df2['Density (g/cm^3)'].astype(float).mean()\n",
        "print(mean_value)\n",
        "\n",
        "# Fill NaNs of this column with mean_value\n",
        "df2['Density (g/cm^3)'].fillna(value=mean_value, inplace=True)\n"
      ],
      "metadata": {
        "colab": {
          "base_uri": "https://localhost:8080/"
        },
        "id": "9EMfqcNgv-Bb",
        "outputId": "9ff2a6c4-a1aa-41bc-a503-16c6dbd3bc03"
      },
      "execution_count": null,
      "outputs": [
        {
          "output_type": "stream",
          "name": "stdout",
          "text": [
            "2.642154915254237\n"
          ]
        },
        {
          "output_type": "stream",
          "name": "stderr",
          "text": [
            "<ipython-input-496-2594ae7026b0>:7: SettingWithCopyWarning: \n",
            "A value is trying to be set on a copy of a slice from a DataFrame\n",
            "\n",
            "See the caveats in the documentation: https://pandas.pydata.org/pandas-docs/stable/user_guide/indexing.html#returning-a-view-versus-a-copy\n",
            "  df2['Density (g/cm^3)'].fillna(value=mean_value, inplace=True)\n"
          ]
        }
      ]
    },
    {
      "cell_type": "code",
      "source": [
        "# Handeling missing values of x with replacing mean\n",
        "\n",
        "mean_value = df2['Impurities (%)'].astype(float).mean()\n",
        "print(mean_value)\n",
        "\n",
        "# Fill NaNs of this column with mean_value\n",
        "df2['Impurities (%)'].fillna(value=mean_value, inplace=True)\n"
      ],
      "metadata": {
        "colab": {
          "base_uri": "https://localhost:8080/"
        },
        "id": "RkPUAuigwxaJ",
        "outputId": "036dfd73-493c-4bc2-a52e-42483a84ee2e"
      },
      "execution_count": null,
      "outputs": [
        {
          "output_type": "stream",
          "name": "stdout",
          "text": [
            "3.9222499999999996\n"
          ]
        },
        {
          "output_type": "stream",
          "name": "stderr",
          "text": [
            "<ipython-input-497-c4f160abce98>:7: SettingWithCopyWarning: \n",
            "A value is trying to be set on a copy of a slice from a DataFrame\n",
            "\n",
            "See the caveats in the documentation: https://pandas.pydata.org/pandas-docs/stable/user_guide/indexing.html#returning-a-view-versus-a-copy\n",
            "  df2['Impurities (%)'].fillna(value=mean_value, inplace=True)\n"
          ]
        }
      ]
    },
    {
      "cell_type": "code",
      "source": [
        "\n",
        "# Handeling missing values of input variables with replacing mean\n",
        "\n",
        "mean_value = df2['Aluminum content (%)'].astype(float).mean()\n",
        "print(mean_value)\n",
        "\n",
        "# Fill NaNs of this column with mean_value\n",
        "df2['Aluminum content (%)'].fillna(value=mean_value, inplace=True)\n"
      ],
      "metadata": {
        "colab": {
          "base_uri": "https://localhost:8080/"
        },
        "id": "vBPxRhpISXuI",
        "outputId": "16f58344-31df-4754-a4ff-678ca20620c1"
      },
      "execution_count": null,
      "outputs": [
        {
          "output_type": "stream",
          "name": "stdout",
          "text": [
            "94.67002058471896\n"
          ]
        },
        {
          "output_type": "stream",
          "name": "stderr",
          "text": [
            "<ipython-input-498-e503bc15cab5>:7: SettingWithCopyWarning: \n",
            "A value is trying to be set on a copy of a slice from a DataFrame\n",
            "\n",
            "See the caveats in the documentation: https://pandas.pydata.org/pandas-docs/stable/user_guide/indexing.html#returning-a-view-versus-a-copy\n",
            "  df2['Aluminum content (%)'].fillna(value=mean_value, inplace=True)\n"
          ]
        }
      ]
    },
    {
      "cell_type": "code",
      "source": [
        "df2 = df2.replace(np.nan, None)"
      ],
      "metadata": {
        "id": "FxSWSKepwdPl"
      },
      "execution_count": null,
      "outputs": []
    },
    {
      "cell_type": "code",
      "source": [
        "# Count NaN values of whole DataFrame\n",
        "\n",
        "y = df[['Tensile strength (MPa)']].astype(float)\n",
        "print(\"Density (g/cm^3): \",df2['Density (g/cm^3)'].isna().sum().sum())\n",
        "print(\"Missing of Aluminum content (wt%): \",df2['Aluminum content (wt%)'].isna().sum().sum())\n",
        "print(\"Missing of Graphene content (wt%): \",df2['Graphene content (wt%)'].isna().sum().sum())\n",
        "print(\"Missing of Density (g/cm^3): \",df2['Density (g/cm^3)'].isna().sum().sum())\n",
        "print(\"Missing of Aluminum (Vol%): \",df2['Aluminum (Vol%)'].isna().sum().sum())\n",
        "print(\"Missing of Impurities (%): \",df2['Impurities (%)'].isna().sum().sum())\n",
        "print(\"Missing of Theoretical UTS of AI (MPa): \",df2['Theoretical UTS of AI (MPa)'].isna().sum().sum())\n",
        "print(\"Missing of Theortetical UTS Gr (MPa): \",df2['Theortetical UTS Gr (MPa)'].isna().sum().sum())\n",
        "print(\"Missing of Type of Graphene: \",df2['Type of Graphene'].isna().sum().sum())\n",
        "print(\"Missing of Manufacturing Process: \",df2['Manufacturing Process'].isna().sum().sum())\n",
        "print(\"Missing of Heat treatment: \",df2['Heat treatment'].isna().sum().sum())\n",
        "print(\"Missing of Aluminum content (%): \",df2['Aluminum content (%)'].isna().sum().sum())\n",
        "print(\"Missing of Tensile strength (MPa): \",df['Tensile strength (MPa)'].isna().sum().sum())"
      ],
      "metadata": {
        "colab": {
          "base_uri": "https://localhost:8080/"
        },
        "id": "dOP2Go1gS-lF",
        "outputId": "fedf2660-0ca8-4618-b286-2a177838b1b0"
      },
      "execution_count": null,
      "outputs": [
        {
          "output_type": "stream",
          "name": "stdout",
          "text": [
            "Density (g/cm^3):  0\n",
            "Missing of Aluminum content (wt%):  0\n",
            "Missing of Graphene content (wt%):  0\n",
            "Missing of Density (g/cm^3):  0\n",
            "Missing of Aluminum (Vol%):  0\n",
            "Missing of Impurities (%):  0\n",
            "Missing of Theoretical UTS of AI (MPa):  0\n",
            "Missing of Theortetical UTS Gr (MPa):  0\n",
            "Missing of Type of Graphene:  0\n",
            "Missing of Manufacturing Process:  3\n",
            "Missing of Heat treatment:  3\n",
            "Missing of Aluminum content (%):  0\n",
            "Missing of Tensile strength (MPa):  0\n"
          ]
        }
      ]
    },
    {
      "cell_type": "markdown",
      "source": [
        "# Converting categorical columns to numerical:"
      ],
      "metadata": {
        "id": "C_qhPFDuAdCh"
      }
    },
    {
      "cell_type": "code",
      "source": [
        "\n",
        "# creating a copy of the original data frame\n",
        "df3 = df2.copy()\n",
        "\n",
        "# calling the get_dummies method\n",
        "# the first parameter mentions the\n",
        "# the name of the data frame to store the\n",
        "# new data frame in\n",
        "# the second parameter is the list of\n",
        "# columns which if not mentioned\n",
        "# returns the dummies for all\n",
        "# categorical columns\n",
        "df3 = pd.get_dummies(df3,\n",
        "\t\t\t\t\tcolumns = ['Type of Graphene', 'Manufacturing Process', 'Heat treatment'])\n",
        "\n",
        "display(df3)\n",
        "\n",
        "\n"
      ],
      "metadata": {
        "colab": {
          "base_uri": "https://localhost:8080/",
          "height": 534
        },
        "id": "ISqY10wJEWTP",
        "outputId": "a4da38c1-c27f-44dc-f35c-20354dc08508"
      },
      "execution_count": null,
      "outputs": [
        {
          "output_type": "display_data",
          "data": {
            "text/plain": [
              "     Density (g/cm^3)  Aluminum content (wt%)  Graphene content (wt%)  \\\n",
              "1            2.642155                   99.75                     0.0   \n",
              "2            2.810000                   91.40                     0.0   \n",
              "3            2.642155                   90.00                     0.0   \n",
              "4            2.600000                   85.50                     0.0   \n",
              "5            2.642155                  100.00                     0.0   \n",
              "..                ...                     ...                     ...   \n",
              "265          2.642155                   95.25                     3.0   \n",
              "266          2.642155                   95.25                     3.0   \n",
              "269          2.642155                   96.50                     3.8   \n",
              "289          2.630000                   94.00                     7.5   \n",
              "290          2.710000                   98.50                    10.0   \n",
              "\n",
              "     Graphene (Vol%)  Aluminum (Vol%)  Impurities (%)  \\\n",
              "1           0.000000       100.000000         0.25000   \n",
              "2           0.000000       100.000000         9.60000   \n",
              "3           0.000000       100.000000        10.00000   \n",
              "4           0.000000       100.000000        14.50000   \n",
              "5           0.000000       100.000000         0.00000   \n",
              "..               ...              ...             ...   \n",
              "265         3.615559        96.384441         3.92225   \n",
              "266         3.615559        96.384441         3.92225   \n",
              "269         4.500000        95.520150         3.92225   \n",
              "289         8.678026        91.321974         3.92225   \n",
              "290        10.787077        89.212923         3.92225   \n",
              "\n",
              "     Theoretical UTS of AI (MPa)  Theortetical UTS Gr (MPa)  \\\n",
              "1                      85.000000                   0.000000   \n",
              "2                      85.000000                   0.000000   \n",
              "3                      85.000000                   0.000000   \n",
              "4                      85.000000                   0.000000   \n",
              "5                      85.000000                   0.000000   \n",
              "..                           ...                        ...   \n",
              "265                    81.926775                4700.226642   \n",
              "266                    81.926775                4700.226642   \n",
              "269                    81.192127                5850.000000   \n",
              "289                    77.623678               11281.433740   \n",
              "290                    75.830984               14023.200210   \n",
              "\n",
              "     Aluminum content (%)  Type of Graphene_CNT  ...  \\\n",
              "1                   99.75                     0  ...   \n",
              "2                   91.40                     0  ...   \n",
              "3                   90.00                     0  ...   \n",
              "4                   85.50                     0  ...   \n",
              "5                  100.00                     0  ...   \n",
              "..                    ...                   ...  ...   \n",
              "265                 95.25                     0  ...   \n",
              "266                 95.25                     0  ...   \n",
              "269                 96.50                     0  ...   \n",
              "289                 94.00                     0  ...   \n",
              "290                 98.00                     0  ...   \n",
              "\n",
              "     Heat treatment_Hot Compaction & Sintering  Heat treatment_Hot Extruded  \\\n",
              "1                                            0                            0   \n",
              "2                                            0                            0   \n",
              "3                                            0                            0   \n",
              "4                                            0                            0   \n",
              "5                                            0                            0   \n",
              "..                                         ...                          ...   \n",
              "265                                          0                            0   \n",
              "266                                          0                            0   \n",
              "269                                          0                            0   \n",
              "289                                          0                            1   \n",
              "290                                          0                            1   \n",
              "\n",
              "     Heat treatment_Hot Extrusion  Heat treatment_Hot-rolled  \\\n",
              "1                               0                          0   \n",
              "2                               0                          0   \n",
              "3                               0                          0   \n",
              "4                               1                          0   \n",
              "5                               0                          0   \n",
              "..                            ...                        ...   \n",
              "265                             1                          0   \n",
              "266                             1                          0   \n",
              "269                             0                          1   \n",
              "289                             0                          0   \n",
              "290                             0                          0   \n",
              "\n",
              "     Heat treatment_Multi-Pass   Heat treatment_None  Heat treatment_Preheat  \\\n",
              "1                             0                    1                       0   \n",
              "2                             0                    0                       0   \n",
              "3                             0                    0                       0   \n",
              "4                             0                    0                       0   \n",
              "5                             0                    1                       0   \n",
              "..                          ...                  ...                     ...   \n",
              "265                           0                    0                       0   \n",
              "266                           0                    0                       0   \n",
              "269                           0                    0                       0   \n",
              "289                           0                    0                       0   \n",
              "290                           0                    0                       0   \n",
              "\n",
              "     Heat treatment_Sintering  Heat treatment_T6  \\\n",
              "1                           0                  0   \n",
              "2                           0                  1   \n",
              "3                           0                  1   \n",
              "4                           0                  0   \n",
              "5                           0                  0   \n",
              "..                        ...                ...   \n",
              "265                         0                  0   \n",
              "266                         0                  0   \n",
              "269                         0                  0   \n",
              "289                         0                  0   \n",
              "290                         0                  0   \n",
              "\n",
              "     Heat treatment_Vacuum Hot Pressing  \n",
              "1                                     0  \n",
              "2                                     0  \n",
              "3                                     0  \n",
              "4                                     0  \n",
              "5                                     0  \n",
              "..                                  ...  \n",
              "265                                   0  \n",
              "266                                   0  \n",
              "269                                   0  \n",
              "289                                   0  \n",
              "290                                   0  \n",
              "\n",
              "[160 rows x 75 columns]"
            ],
            "text/html": [
              "\n",
              "\n",
              "  <div id=\"df-3ef31d39-8536-4f2e-883c-e72fe916b92c\">\n",
              "    <div class=\"colab-df-container\">\n",
              "      <div>\n",
              "<style scoped>\n",
              "    .dataframe tbody tr th:only-of-type {\n",
              "        vertical-align: middle;\n",
              "    }\n",
              "\n",
              "    .dataframe tbody tr th {\n",
              "        vertical-align: top;\n",
              "    }\n",
              "\n",
              "    .dataframe thead th {\n",
              "        text-align: right;\n",
              "    }\n",
              "</style>\n",
              "<table border=\"1\" class=\"dataframe\">\n",
              "  <thead>\n",
              "    <tr style=\"text-align: right;\">\n",
              "      <th></th>\n",
              "      <th>Density (g/cm^3)</th>\n",
              "      <th>Aluminum content (wt%)</th>\n",
              "      <th>Graphene content (wt%)</th>\n",
              "      <th>Graphene (Vol%)</th>\n",
              "      <th>Aluminum (Vol%)</th>\n",
              "      <th>Impurities (%)</th>\n",
              "      <th>Theoretical UTS of AI (MPa)</th>\n",
              "      <th>Theortetical UTS Gr (MPa)</th>\n",
              "      <th>Aluminum content (%)</th>\n",
              "      <th>Type of Graphene_CNT</th>\n",
              "      <th>...</th>\n",
              "      <th>Heat treatment_Hot Compaction &amp; Sintering</th>\n",
              "      <th>Heat treatment_Hot Extruded</th>\n",
              "      <th>Heat treatment_Hot Extrusion</th>\n",
              "      <th>Heat treatment_Hot-rolled</th>\n",
              "      <th>Heat treatment_Multi-Pass</th>\n",
              "      <th>Heat treatment_None</th>\n",
              "      <th>Heat treatment_Preheat</th>\n",
              "      <th>Heat treatment_Sintering</th>\n",
              "      <th>Heat treatment_T6</th>\n",
              "      <th>Heat treatment_Vacuum Hot Pressing</th>\n",
              "    </tr>\n",
              "  </thead>\n",
              "  <tbody>\n",
              "    <tr>\n",
              "      <th>1</th>\n",
              "      <td>2.642155</td>\n",
              "      <td>99.75</td>\n",
              "      <td>0.0</td>\n",
              "      <td>0.000000</td>\n",
              "      <td>100.000000</td>\n",
              "      <td>0.25000</td>\n",
              "      <td>85.000000</td>\n",
              "      <td>0.000000</td>\n",
              "      <td>99.75</td>\n",
              "      <td>0</td>\n",
              "      <td>...</td>\n",
              "      <td>0</td>\n",
              "      <td>0</td>\n",
              "      <td>0</td>\n",
              "      <td>0</td>\n",
              "      <td>0</td>\n",
              "      <td>1</td>\n",
              "      <td>0</td>\n",
              "      <td>0</td>\n",
              "      <td>0</td>\n",
              "      <td>0</td>\n",
              "    </tr>\n",
              "    <tr>\n",
              "      <th>2</th>\n",
              "      <td>2.810000</td>\n",
              "      <td>91.40</td>\n",
              "      <td>0.0</td>\n",
              "      <td>0.000000</td>\n",
              "      <td>100.000000</td>\n",
              "      <td>9.60000</td>\n",
              "      <td>85.000000</td>\n",
              "      <td>0.000000</td>\n",
              "      <td>91.40</td>\n",
              "      <td>0</td>\n",
              "      <td>...</td>\n",
              "      <td>0</td>\n",
              "      <td>0</td>\n",
              "      <td>0</td>\n",
              "      <td>0</td>\n",
              "      <td>0</td>\n",
              "      <td>0</td>\n",
              "      <td>0</td>\n",
              "      <td>0</td>\n",
              "      <td>1</td>\n",
              "      <td>0</td>\n",
              "    </tr>\n",
              "    <tr>\n",
              "      <th>3</th>\n",
              "      <td>2.642155</td>\n",
              "      <td>90.00</td>\n",
              "      <td>0.0</td>\n",
              "      <td>0.000000</td>\n",
              "      <td>100.000000</td>\n",
              "      <td>10.00000</td>\n",
              "      <td>85.000000</td>\n",
              "      <td>0.000000</td>\n",
              "      <td>90.00</td>\n",
              "      <td>0</td>\n",
              "      <td>...</td>\n",
              "      <td>0</td>\n",
              "      <td>0</td>\n",
              "      <td>0</td>\n",
              "      <td>0</td>\n",
              "      <td>0</td>\n",
              "      <td>0</td>\n",
              "      <td>0</td>\n",
              "      <td>0</td>\n",
              "      <td>1</td>\n",
              "      <td>0</td>\n",
              "    </tr>\n",
              "    <tr>\n",
              "      <th>4</th>\n",
              "      <td>2.600000</td>\n",
              "      <td>85.50</td>\n",
              "      <td>0.0</td>\n",
              "      <td>0.000000</td>\n",
              "      <td>100.000000</td>\n",
              "      <td>14.50000</td>\n",
              "      <td>85.000000</td>\n",
              "      <td>0.000000</td>\n",
              "      <td>85.50</td>\n",
              "      <td>0</td>\n",
              "      <td>...</td>\n",
              "      <td>0</td>\n",
              "      <td>0</td>\n",
              "      <td>1</td>\n",
              "      <td>0</td>\n",
              "      <td>0</td>\n",
              "      <td>0</td>\n",
              "      <td>0</td>\n",
              "      <td>0</td>\n",
              "      <td>0</td>\n",
              "      <td>0</td>\n",
              "    </tr>\n",
              "    <tr>\n",
              "      <th>5</th>\n",
              "      <td>2.642155</td>\n",
              "      <td>100.00</td>\n",
              "      <td>0.0</td>\n",
              "      <td>0.000000</td>\n",
              "      <td>100.000000</td>\n",
              "      <td>0.00000</td>\n",
              "      <td>85.000000</td>\n",
              "      <td>0.000000</td>\n",
              "      <td>100.00</td>\n",
              "      <td>0</td>\n",
              "      <td>...</td>\n",
              "      <td>0</td>\n",
              "      <td>0</td>\n",
              "      <td>0</td>\n",
              "      <td>0</td>\n",
              "      <td>0</td>\n",
              "      <td>1</td>\n",
              "      <td>0</td>\n",
              "      <td>0</td>\n",
              "      <td>0</td>\n",
              "      <td>0</td>\n",
              "    </tr>\n",
              "    <tr>\n",
              "      <th>...</th>\n",
              "      <td>...</td>\n",
              "      <td>...</td>\n",
              "      <td>...</td>\n",
              "      <td>...</td>\n",
              "      <td>...</td>\n",
              "      <td>...</td>\n",
              "      <td>...</td>\n",
              "      <td>...</td>\n",
              "      <td>...</td>\n",
              "      <td>...</td>\n",
              "      <td>...</td>\n",
              "      <td>...</td>\n",
              "      <td>...</td>\n",
              "      <td>...</td>\n",
              "      <td>...</td>\n",
              "      <td>...</td>\n",
              "      <td>...</td>\n",
              "      <td>...</td>\n",
              "      <td>...</td>\n",
              "      <td>...</td>\n",
              "      <td>...</td>\n",
              "    </tr>\n",
              "    <tr>\n",
              "      <th>265</th>\n",
              "      <td>2.642155</td>\n",
              "      <td>95.25</td>\n",
              "      <td>3.0</td>\n",
              "      <td>3.615559</td>\n",
              "      <td>96.384441</td>\n",
              "      <td>3.92225</td>\n",
              "      <td>81.926775</td>\n",
              "      <td>4700.226642</td>\n",
              "      <td>95.25</td>\n",
              "      <td>0</td>\n",
              "      <td>...</td>\n",
              "      <td>0</td>\n",
              "      <td>0</td>\n",
              "      <td>1</td>\n",
              "      <td>0</td>\n",
              "      <td>0</td>\n",
              "      <td>0</td>\n",
              "      <td>0</td>\n",
              "      <td>0</td>\n",
              "      <td>0</td>\n",
              "      <td>0</td>\n",
              "    </tr>\n",
              "    <tr>\n",
              "      <th>266</th>\n",
              "      <td>2.642155</td>\n",
              "      <td>95.25</td>\n",
              "      <td>3.0</td>\n",
              "      <td>3.615559</td>\n",
              "      <td>96.384441</td>\n",
              "      <td>3.92225</td>\n",
              "      <td>81.926775</td>\n",
              "      <td>4700.226642</td>\n",
              "      <td>95.25</td>\n",
              "      <td>0</td>\n",
              "      <td>...</td>\n",
              "      <td>0</td>\n",
              "      <td>0</td>\n",
              "      <td>1</td>\n",
              "      <td>0</td>\n",
              "      <td>0</td>\n",
              "      <td>0</td>\n",
              "      <td>0</td>\n",
              "      <td>0</td>\n",
              "      <td>0</td>\n",
              "      <td>0</td>\n",
              "    </tr>\n",
              "    <tr>\n",
              "      <th>269</th>\n",
              "      <td>2.642155</td>\n",
              "      <td>96.50</td>\n",
              "      <td>3.8</td>\n",
              "      <td>4.500000</td>\n",
              "      <td>95.520150</td>\n",
              "      <td>3.92225</td>\n",
              "      <td>81.192127</td>\n",
              "      <td>5850.000000</td>\n",
              "      <td>96.50</td>\n",
              "      <td>0</td>\n",
              "      <td>...</td>\n",
              "      <td>0</td>\n",
              "      <td>0</td>\n",
              "      <td>0</td>\n",
              "      <td>1</td>\n",
              "      <td>0</td>\n",
              "      <td>0</td>\n",
              "      <td>0</td>\n",
              "      <td>0</td>\n",
              "      <td>0</td>\n",
              "      <td>0</td>\n",
              "    </tr>\n",
              "    <tr>\n",
              "      <th>289</th>\n",
              "      <td>2.630000</td>\n",
              "      <td>94.00</td>\n",
              "      <td>7.5</td>\n",
              "      <td>8.678026</td>\n",
              "      <td>91.321974</td>\n",
              "      <td>3.92225</td>\n",
              "      <td>77.623678</td>\n",
              "      <td>11281.433740</td>\n",
              "      <td>94.00</td>\n",
              "      <td>0</td>\n",
              "      <td>...</td>\n",
              "      <td>0</td>\n",
              "      <td>1</td>\n",
              "      <td>0</td>\n",
              "      <td>0</td>\n",
              "      <td>0</td>\n",
              "      <td>0</td>\n",
              "      <td>0</td>\n",
              "      <td>0</td>\n",
              "      <td>0</td>\n",
              "      <td>0</td>\n",
              "    </tr>\n",
              "    <tr>\n",
              "      <th>290</th>\n",
              "      <td>2.710000</td>\n",
              "      <td>98.50</td>\n",
              "      <td>10.0</td>\n",
              "      <td>10.787077</td>\n",
              "      <td>89.212923</td>\n",
              "      <td>3.92225</td>\n",
              "      <td>75.830984</td>\n",
              "      <td>14023.200210</td>\n",
              "      <td>98.00</td>\n",
              "      <td>0</td>\n",
              "      <td>...</td>\n",
              "      <td>0</td>\n",
              "      <td>1</td>\n",
              "      <td>0</td>\n",
              "      <td>0</td>\n",
              "      <td>0</td>\n",
              "      <td>0</td>\n",
              "      <td>0</td>\n",
              "      <td>0</td>\n",
              "      <td>0</td>\n",
              "      <td>0</td>\n",
              "    </tr>\n",
              "  </tbody>\n",
              "</table>\n",
              "<p>160 rows × 75 columns</p>\n",
              "</div>\n",
              "      <button class=\"colab-df-convert\" onclick=\"convertToInteractive('df-3ef31d39-8536-4f2e-883c-e72fe916b92c')\"\n",
              "              title=\"Convert this dataframe to an interactive table.\"\n",
              "              style=\"display:none;\">\n",
              "\n",
              "  <svg xmlns=\"http://www.w3.org/2000/svg\" height=\"24px\"viewBox=\"0 0 24 24\"\n",
              "       width=\"24px\">\n",
              "    <path d=\"M0 0h24v24H0V0z\" fill=\"none\"/>\n",
              "    <path d=\"M18.56 5.44l.94 2.06.94-2.06 2.06-.94-2.06-.94-.94-2.06-.94 2.06-2.06.94zm-11 1L8.5 8.5l.94-2.06 2.06-.94-2.06-.94L8.5 2.5l-.94 2.06-2.06.94zm10 10l.94 2.06.94-2.06 2.06-.94-2.06-.94-.94-2.06-.94 2.06-2.06.94z\"/><path d=\"M17.41 7.96l-1.37-1.37c-.4-.4-.92-.59-1.43-.59-.52 0-1.04.2-1.43.59L10.3 9.45l-7.72 7.72c-.78.78-.78 2.05 0 2.83L4 21.41c.39.39.9.59 1.41.59.51 0 1.02-.2 1.41-.59l7.78-7.78 2.81-2.81c.8-.78.8-2.07 0-2.86zM5.41 20L4 18.59l7.72-7.72 1.47 1.35L5.41 20z\"/>\n",
              "  </svg>\n",
              "      </button>\n",
              "\n",
              "\n",
              "\n",
              "    <div id=\"df-028916a0-eb9b-44f1-8942-7189635bcb6f\">\n",
              "      <button class=\"colab-df-quickchart\" onclick=\"quickchart('df-028916a0-eb9b-44f1-8942-7189635bcb6f')\"\n",
              "              title=\"Suggest charts.\"\n",
              "              style=\"display:none;\">\n",
              "\n",
              "<svg xmlns=\"http://www.w3.org/2000/svg\" height=\"24px\"viewBox=\"0 0 24 24\"\n",
              "     width=\"24px\">\n",
              "    <g>\n",
              "        <path d=\"M19 3H5c-1.1 0-2 .9-2 2v14c0 1.1.9 2 2 2h14c1.1 0 2-.9 2-2V5c0-1.1-.9-2-2-2zM9 17H7v-7h2v7zm4 0h-2V7h2v10zm4 0h-2v-4h2v4z\"/>\n",
              "    </g>\n",
              "</svg>\n",
              "      </button>\n",
              "    </div>\n",
              "\n",
              "<style>\n",
              "  .colab-df-quickchart {\n",
              "    background-color: #E8F0FE;\n",
              "    border: none;\n",
              "    border-radius: 50%;\n",
              "    cursor: pointer;\n",
              "    display: none;\n",
              "    fill: #1967D2;\n",
              "    height: 32px;\n",
              "    padding: 0 0 0 0;\n",
              "    width: 32px;\n",
              "  }\n",
              "\n",
              "  .colab-df-quickchart:hover {\n",
              "    background-color: #E2EBFA;\n",
              "    box-shadow: 0px 1px 2px rgba(60, 64, 67, 0.3), 0px 1px 3px 1px rgba(60, 64, 67, 0.15);\n",
              "    fill: #174EA6;\n",
              "  }\n",
              "\n",
              "  [theme=dark] .colab-df-quickchart {\n",
              "    background-color: #3B4455;\n",
              "    fill: #D2E3FC;\n",
              "  }\n",
              "\n",
              "  [theme=dark] .colab-df-quickchart:hover {\n",
              "    background-color: #434B5C;\n",
              "    box-shadow: 0px 1px 3px 1px rgba(0, 0, 0, 0.15);\n",
              "    filter: drop-shadow(0px 1px 2px rgba(0, 0, 0, 0.3));\n",
              "    fill: #FFFFFF;\n",
              "  }\n",
              "</style>\n",
              "\n",
              "    <script>\n",
              "      async function quickchart(key) {\n",
              "        const containerElement = document.querySelector('#' + key);\n",
              "        const charts = await google.colab.kernel.invokeFunction(\n",
              "            'suggestCharts', [key], {});\n",
              "      }\n",
              "    </script>\n",
              "\n",
              "      <script>\n",
              "\n",
              "function displayQuickchartButton(domScope) {\n",
              "  let quickchartButtonEl =\n",
              "    domScope.querySelector('#df-028916a0-eb9b-44f1-8942-7189635bcb6f button.colab-df-quickchart');\n",
              "  quickchartButtonEl.style.display =\n",
              "    google.colab.kernel.accessAllowed ? 'block' : 'none';\n",
              "}\n",
              "\n",
              "        displayQuickchartButton(document);\n",
              "      </script>\n",
              "      <style>\n",
              "    .colab-df-container {\n",
              "      display:flex;\n",
              "      flex-wrap:wrap;\n",
              "      gap: 12px;\n",
              "    }\n",
              "\n",
              "    .colab-df-convert {\n",
              "      background-color: #E8F0FE;\n",
              "      border: none;\n",
              "      border-radius: 50%;\n",
              "      cursor: pointer;\n",
              "      display: none;\n",
              "      fill: #1967D2;\n",
              "      height: 32px;\n",
              "      padding: 0 0 0 0;\n",
              "      width: 32px;\n",
              "    }\n",
              "\n",
              "    .colab-df-convert:hover {\n",
              "      background-color: #E2EBFA;\n",
              "      box-shadow: 0px 1px 2px rgba(60, 64, 67, 0.3), 0px 1px 3px 1px rgba(60, 64, 67, 0.15);\n",
              "      fill: #174EA6;\n",
              "    }\n",
              "\n",
              "    [theme=dark] .colab-df-convert {\n",
              "      background-color: #3B4455;\n",
              "      fill: #D2E3FC;\n",
              "    }\n",
              "\n",
              "    [theme=dark] .colab-df-convert:hover {\n",
              "      background-color: #434B5C;\n",
              "      box-shadow: 0px 1px 3px 1px rgba(0, 0, 0, 0.15);\n",
              "      filter: drop-shadow(0px 1px 2px rgba(0, 0, 0, 0.3));\n",
              "      fill: #FFFFFF;\n",
              "    }\n",
              "  </style>\n",
              "\n",
              "      <script>\n",
              "        const buttonEl =\n",
              "          document.querySelector('#df-3ef31d39-8536-4f2e-883c-e72fe916b92c button.colab-df-convert');\n",
              "        buttonEl.style.display =\n",
              "          google.colab.kernel.accessAllowed ? 'block' : 'none';\n",
              "\n",
              "        async function convertToInteractive(key) {\n",
              "          const element = document.querySelector('#df-3ef31d39-8536-4f2e-883c-e72fe916b92c');\n",
              "          const dataTable =\n",
              "            await google.colab.kernel.invokeFunction('convertToInteractive',\n",
              "                                                     [key], {});\n",
              "          if (!dataTable) return;\n",
              "\n",
              "          const docLinkHtml = 'Like what you see? Visit the ' +\n",
              "            '<a target=\"_blank\" href=https://colab.research.google.com/notebooks/data_table.ipynb>data table notebook</a>'\n",
              "            + ' to learn more about interactive tables.';\n",
              "          element.innerHTML = '';\n",
              "          dataTable['output_type'] = 'display_data';\n",
              "          await google.colab.output.renderOutput(dataTable, element);\n",
              "          const docLink = document.createElement('div');\n",
              "          docLink.innerHTML = docLinkHtml;\n",
              "          element.appendChild(docLink);\n",
              "        }\n",
              "      </script>\n",
              "    </div>\n",
              "  </div>\n"
            ]
          },
          "metadata": {}
        }
      ]
    },
    {
      "cell_type": "markdown",
      "source": [
        "## Data Analysis Using Data Visualization"
      ],
      "metadata": {
        "id": "yY9lz54uae0Z"
      }
    },
    {
      "cell_type": "code",
      "source": [
        "import numpy as np\n",
        "import matplotlib.pyplot as plt\n",
        "import seaborn as sns"
      ],
      "metadata": {
        "id": "Tmz3MHGAajQ9"
      },
      "execution_count": null,
      "outputs": []
    },
    {
      "cell_type": "code",
      "source": [
        "\n",
        "sns.distplot(df3['Aluminum content (wt%)'])\n",
        "plt.show()"
      ],
      "metadata": {
        "id": "JocVP1HdayU8",
        "colab": {
          "base_uri": "https://localhost:8080/",
          "height": 636
        },
        "outputId": "29ba8916-a5c4-4916-c0c2-40d342b0510e"
      },
      "execution_count": null,
      "outputs": [
        {
          "output_type": "stream",
          "name": "stderr",
          "text": [
            "<ipython-input-503-abb52922b9c4>:1: UserWarning: \n",
            "\n",
            "`distplot` is a deprecated function and will be removed in seaborn v0.14.0.\n",
            "\n",
            "Please adapt your code to use either `displot` (a figure-level function with\n",
            "similar flexibility) or `histplot` (an axes-level function for histograms).\n",
            "\n",
            "For a guide to updating your code to use the new functions, please see\n",
            "https://gist.github.com/mwaskom/de44147ed2974457ad6372750bbe5751\n",
            "\n",
            "  sns.distplot(df3['Aluminum content (wt%)'])\n"
          ]
        },
        {
          "output_type": "display_data",
          "data": {
            "text/plain": [
              "<Figure size 640x480 with 1 Axes>"
            ],
            "image/png": "[encoded data removed]"
          },
          "metadata": {}
        }
      ]
    },
    {
      "cell_type": "code",
      "source": [
        "# histogram plt of y\n",
        "df['Tensile strength (MPa)'].plot(bins=100,kind='hist')"
      ],
      "metadata": {
        "id": "R146Fx13bTTa",
        "colab": {
          "base_uri": "https://localhost:8080/",
          "height": 447
        },
        "outputId": "bd525c84-1d11-4372-e5cc-fa06a70bdb4e"
      },
      "execution_count": null,
      "outputs": [
        {
          "output_type": "execute_result",
          "data": {
            "text/plain": [
              "<Axes: ylabel='Frequency'>"
            ]
          },
          "metadata": {},
          "execution_count": 504
        },
        {
          "output_type": "display_data",
          "data": {
            "text/plain": [
              "<Figure size 640x480 with 1 Axes>"
            ],
            "image/png": "[encoded data removed]"
          },
          "metadata": {}
        }
      ]
    },
    {
      "cell_type": "code",
      "source": [
        "len(df['Tensile strength (MPa)'])"
      ],
      "metadata": {
        "colab": {
          "base_uri": "https://localhost:8080/"
        },
        "id": "vRkIp0wOxqxY",
        "outputId": "66373e1e-b20e-4fff-b711-4b3b4c31d775"
      },
      "execution_count": null,
      "outputs": [
        {
          "output_type": "execute_result",
          "data": {
            "text/plain": [
              "160"
            ]
          },
          "metadata": {},
          "execution_count": 505
        }
      ]
    },
    {
      "cell_type": "markdown",
      "source": [
        "## Machine Learning Algorithms"
      ],
      "metadata": {
        "id": "cY2KsmxDSaCv"
      }
    },
    {
      "cell_type": "code",
      "source": [
        "# Linear Regression\n",
        "from sklearn.linear_model import LinearRegression\n",
        "from sklearn.model_selection import train_test_split\n",
        "from sklearn import preprocessing\n",
        "\n",
        "# Create a numpy array of data:\n",
        "X = df3.to_numpy()\n",
        "y = df['Tensile strength (MPa)'].astype(float)\n",
        "y = y.to_numpy()\n",
        "\n",
        "# Split the dataset into training and test sets\n",
        "X_train, X_test, y_train, y_test = train_test_split(X, y, test_size=0.2, random_state=112, shuffle = True)\n",
        "\n"
      ],
      "metadata": {
        "id": "p53YM307ZjYa"
      },
      "execution_count": null,
      "outputs": []
    },
    {
      "cell_type": "code",
      "source": [
        "from sklearn.preprocessing import StandardScaler\n",
        "\n",
        "sc_x = StandardScaler()\n",
        "X_train = sc_x.fit_transform(X_train)\n",
        "X_test = sc_x.transform(X_test)\n",
        "\n",
        "y_train = y_train.reshape(-1, 1)\n",
        "y_test = y_test.reshape(-1, 1)\n",
        "\n",
        "sc_y = StandardScaler()\n",
        "y_train = sc_y.fit_transform(y_train)"
      ],
      "metadata": {
        "id": "np7AcNiLBUVL"
      },
      "execution_count": null,
      "outputs": []
    },
    {
      "cell_type": "markdown",
      "source": [
        "## Linear Regression"
      ],
      "metadata": {
        "id": "VNvaqU4aBbie"
      }
    },
    {
      "cell_type": "code",
      "source": [
        "# define the regression models\n",
        "reg_model = LinearRegression().fit(X_train, y_train)\n",
        "\n",
        "# Calculating the predicted values\n",
        "y_pred_lr = reg_model.predict(X_test)"
      ],
      "metadata": {
        "id": "gmZesjzKBahW"
      },
      "execution_count": null,
      "outputs": []
    },
    {
      "cell_type": "code",
      "source": [
        "# y_test"
      ],
      "metadata": {
        "id": "x3SJpz4s4exN"
      },
      "execution_count": null,
      "outputs": []
    },
    {
      "cell_type": "code",
      "source": [
        "# y_pred"
      ],
      "metadata": {
        "id": "6XtqRrKJ4x8z"
      },
      "execution_count": null,
      "outputs": []
    },
    {
      "cell_type": "code",
      "source": [
        "train_pred_lr = reg_model.predict(X_train)\n",
        "y_test_lr = sc_y.transform(y_test)\n",
        "\n",
        "print('R2 (train): ', r2_score(y_train , train_pred_lr))\n",
        "print('R2 (test): ', r2_score(y_test_lr , y_pred_lr))\n",
        "print('Mean Absolute Error (MAE):', mean_absolute_error(y_test, y_pred_lr))\n",
        "print('Mean Squared Error (MSE):', mean_squared_error(y_test, y_pred_lr))\n",
        "print('Root Mean Squared Error (RMSE):', np.sqrt(mean_squared_error(y_test, y_pred_lr)))"
      ],
      "metadata": {
        "colab": {
          "base_uri": "https://localhost:8080/"
        },
        "id": "jLeR2bl2Ah6c",
        "outputId": "3258cee1-4354-4448-e8b9-fb5279c49923"
      },
      "execution_count": null,
      "outputs": [
        {
          "output_type": "stream",
          "name": "stdout",
          "text": [
            "R2 (train):  0.8073044880353213\n",
            "R2 (test):  -9.393111640607373e+24\n",
            "Mean Absolute Error (MAE): 1222564847576.78\n",
            "Mean Squared Error (MSE): 7.28218817765052e+24\n",
            "Root Mean Squared Error (RMSE): 2698552978477.6357\n"
          ]
        }
      ]
    },
    {
      "cell_type": "markdown",
      "source": [
        "## Ramdom Forest"
      ],
      "metadata": {
        "id": "-QCGcVB6-F4g"
      }
    },
    {
      "cell_type": "code",
      "source": [
        "from sklearn.ensemble import RandomForestRegressor\n",
        "\n",
        "regressor = RandomForestRegressor(n_estimators = 100, random_state = 0)\n",
        "regressor.fit(X_train, y_train)\n",
        "\n",
        "y_pred_rf = regressor.predict(X_test)\n"
      ],
      "metadata": {
        "id": "kYRKCgU2zC24",
        "colab": {
          "base_uri": "https://localhost:8080/"
        },
        "outputId": "3d8985c6-a06b-40fb-fb03-457b28746c94"
      },
      "execution_count": null,
      "outputs": [
        {
          "output_type": "stream",
          "name": "stderr",
          "text": [
            "<ipython-input-512-c3ed7f380b82>:4: DataConversionWarning: A column-vector y was passed when a 1d array was expected. Please change the shape of y to (n_samples,), for example using ravel().\n",
            "  regressor.fit(X_train, y_train)\n"
          ]
        }
      ]
    },
    {
      "cell_type": "code",
      "source": [
        "train_pred_rf = regressor.predict(X_train)\n",
        "y_test_rf = sc_y.transform(y_test)\n",
        "\n",
        "print('R2 (train): ',r2_score(y_train , train_pred_rf))\n",
        "print('R2 (test): ',r2_score(y_test , y_pred_rf))\n",
        "\n",
        "print('Mean Absolute Error (MAE):', mean_absolute_error(y_test, y_pred_rf))\n",
        "print('Mean Squared Error (MSE):', mean_squared_error(y_test, y_pred_rf))\n",
        "print('Root Mean Squared Error (RMSE):', np.sqrt(mean_squared_error(y_test, y_pred_rf)))"
      ],
      "metadata": {
        "colab": {
          "base_uri": "https://localhost:8080/"
        },
        "id": "zcFZ_-jD_9p8",
        "outputId": "085b73bf-fac4-466e-8536-e451fd3ad84c"
      },
      "execution_count": null,
      "outputs": [
        {
          "output_type": "stream",
          "name": "stdout",
          "text": [
            "R2 (train):  0.9313788479796589\n",
            "R2 (test):  -4.5348249329136365\n",
            "Mean Absolute Error (MAE): 255.04352851935744\n",
            "Mean Squared Error (MSE): 79227.5287631472\n",
            "Root Mean Squared Error (RMSE): 281.47385094027334\n"
          ]
        }
      ]
    },
    {
      "cell_type": "markdown",
      "source": [
        "## KNN"
      ],
      "metadata": {
        "id": "vPAmowMmEOvL"
      }
    },
    {
      "cell_type": "code",
      "source": [
        "from sklearn.neighbors import KNeighborsRegressor\n",
        "\n",
        "random.seed(123)\n",
        "def getData(N):\n",
        " x,y =[],[]\n",
        " for i in range(N):\n",
        "  a = i/10+random.uniform(-1,1)\n",
        "  yy =math.sin(a)+3+random.uniform(-1,1)\n",
        "  x.append([a])\n",
        "  y.append([yy])\n",
        "\n",
        " return np.array(x), np.array(y)\n",
        "\n"
      ],
      "metadata": {
        "id": "juayh7UbONUH"
      },
      "execution_count": null,
      "outputs": []
    },
    {
      "cell_type": "code",
      "source": [
        "x,y=getData(128)\n",
        "model = KNeighborsRegressor(n_neighbors=8)\n",
        "print(model)\n",
        "\n",
        "model.fit(x,y)\n",
        "pred_y = model.predict(x)\n",
        "\n",
        "score=model.score(x,y)\n",
        "print(score)\n",
        "\n",
        "mse =mean_squared_error(y, pred_y)\n",
        "print(\"Mean Squared Error:\",mse)\n",
        "\n",
        "rmse = math.sqrt(mse)\n",
        "print(\"Root Mean Squared Error:\", rmse)\n",
        "\n",
        "x_ax=range(128)\n",
        "plt.scatter(x_ax, y, s=5, color=\"blue\", label=\"original\")\n",
        "plt.plot(x_ax, pred_y, lw=1.5, color=\"red\", label=\"predicted\")\n",
        "plt.legend()\n",
        "plt.show()"
      ],
      "metadata": {
        "colab": {
          "base_uri": "https://localhost:8080/"
        },
        "id": "GSKIJkXcOs2o",
        "outputId": "bce64086-0aba-4791-b456-4a3d41049048"
      },
      "execution_count": null,
      "outputs": [
        {
          "output_type": "stream",
          "name": "stdout",
          "text": [
            "KNeighborsRegressor(n_neighbors=8)\n",
            "0.5547626396529213\n",
            "Mean Squared Error: 0.3342911375775352\n",
            "Root Mean Squared Error: 0.578179156989886\n"
          ]
        },
        {
          "output_type": "display_data",
          "data": {
            "text/plain": [
              "<Figure size 640x480 with 1 Axes>"
            ],
            "image/png": "[encoded data removed]"
          },
          "metadata": {}
        }
      ]
    },
    {
      "cell_type": "code",
      "source": [
        "from sklearn.neighbors import KNeighborsRegressor\n",
        "\n",
        "knn_model = KNeighborsRegressor(n_neighbors=5)\n",
        "print(knn_model)\n",
        "\n",
        "knn_model.fit(X_train, y_train)\n",
        "\n",
        "y_pred_knn = regressor.predict(X_train)"
      ],
      "metadata": {
        "colab": {
          "base_uri": "https://localhost:8080/"
        },
        "id": "qmL6C26fEQGn",
        "outputId": "e6f34ce9-14ac-4d3b-cfc1-95b5e5f31785"
      },
      "execution_count": null,
      "outputs": [
        {
          "output_type": "stream",
          "name": "stdout",
          "text": [
            "KNeighborsRegressor()\n"
          ]
        }
      ]
    },
    {
      "cell_type": "code",
      "source": [
        "score=knn_model.score(X_train, y_train)\n",
        "print('R2 (train):' , score)\n",
        "\n",
        "mse =mean_squared_error(y_train, y_pred_knn)\n",
        "print(\"Mean Squared Error:\",mse)\n",
        "\n",
        "rmse = math.sqrt(mse)\n",
        "print(\"Root Mean Squared Error:\", rmse)"
      ],
      "metadata": {
        "colab": {
          "base_uri": "https://localhost:8080/"
        },
        "id": "YFyDOSQ8MOhq",
        "outputId": "a44e4604-5fde-48e4-e7ec-c24ae423559d"
      },
      "execution_count": null,
      "outputs": [
        {
          "output_type": "stream",
          "name": "stdout",
          "text": [
            "R2 (train): 0.5384862758909483\n",
            "Mean Squared Error: 0.06862115202034111\n",
            "Root Mean Squared Error: 0.2619563933564919\n"
          ]
        }
      ]
    },
    {
      "cell_type": "code",
      "source": [
        "x_ax=range(128)\n",
        "plt.scatter(x_ax, y_train, s=5, color=\"blue\", label=\"original\")\n",
        "plt.plot(x_ax, y_pred_knn, lw=1.5, color=\"red\", label=\"predicted\")\n",
        "plt.legend()\n",
        "plt.show()"
      ],
      "metadata": {
        "colab": {
          "base_uri": "https://localhost:8080/",
          "height": 430
        },
        "id": "OdOBiCG-NFWD",
        "outputId": "754d0bda-06a5-4118-92e9-9a29345369b6"
      },
      "execution_count": null,
      "outputs": [
        {
          "output_type": "display_data",
          "data": {
            "text/plain": [
              "<Figure size 640x480 with 1 Axes>"
            ],
            "image/png": "[encoded data removed]"
          },
          "metadata": {}
        }
      ]
    },
    {
      "cell_type": "code",
      "source": [],
      "metadata": {
        "id": "QiNEvGxbNGBx"
      },
      "execution_count": null,
      "outputs": []
    }
  ]
}